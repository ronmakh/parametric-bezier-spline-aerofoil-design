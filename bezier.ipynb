{
 "cells": [
  {
   "cell_type": "markdown",
   "metadata": {
    "nbgrader": {
     "grade": false,
     "solution": false
    }
   },
   "source": [
    "Before you turn this problem in, make sure everything runs as expected. First, **restart the kernel** (in the menubar, select Kernel$\\rightarrow$Restart) and then **run all cells** (in the menubar, select Cell$\\rightarrow$Run All).\n",
    "\n",
    "Make sure you fill in any place that says `YOUR CODE HERE` or \"YOUR ANSWER HERE\", as well as your name and collaborators below:"
   ]
  },
  {
   "cell_type": "code",
   "execution_count": 1,
   "metadata": {
    "collapsed": true,
    "nbgrader": {
     "grade": false,
     "solution": false
    }
   },
   "outputs": [],
   "source": [
    "NAME = \"WO YEW BEN\"\n",
    "COLLABORATORS = \"\""
   ]
  },
  {
   "cell_type": "markdown",
   "metadata": {
    "nbgrader": {
     "grade": false,
     "solution": false
    }
   },
   "source": [
    "---"
   ]
  },
  {
   "attachments": {},
   "cell_type": "markdown",
   "metadata": {},
   "source": [
    "# B&eacute;zier and rational B&eacute;zier curves\n",
    "## Task 1: create a B&eacute;zier curve\n",
    "In this task you will write a function <code>bezier(a)</code> that creates a B&eacute;zier curve (equation 13 in the notes) with control points defined by an $n\\times2$ array <code>a</code>, returns a $101\\times 2$ array <code>B</code> of $x,y$ points on the curve for $t[0,1]$ and plots the curve, control points and control polygon.\n",
    "\n",
    "First you'll need to import Numpy for the maths and Matplotlib for the plotting:"
   ]
  },
  {
   "cell_type": "code",
   "execution_count": 2,
   "metadata": {
    "collapsed": true
   },
   "outputs": [],
   "source": [
    "%matplotlib inline\n",
    "import numpy as np\n",
    "import matplotlib.pyplot as pl"
   ]
  },
  {
   "cell_type": "markdown",
   "metadata": {},
   "source": [
    "To implement equation 13 from the notes, you first need a function that calculates $\\left(\\begin{array}{c}n\\\\i\\end{array}\\right)$. We'll call this <code>choose(n, i)</code>, and it is provided for you in the module <code>aclabtools</code>:"
   ]
  },
  {
   "cell_type": "code",
   "execution_count": 3,
   "metadata": {},
   "outputs": [],
   "source": [
    "from aclabtools import choose"
   ]
  },
  {
   "cell_type": "markdown",
   "metadata": {},
   "source": [
    "Most of the <code>bezier</code> function has been written for you. In the code below, beneath the '<code># YOUR CODE HERE</code>', delete the '<code>raise NotImplementedError()</code>' and write a line of code starting <code>terms[j,:] = </code> to calculate the terms to be summed in equation 13 (you'll need to use the choose function). "
   ]
  },
  {
   "cell_type": "code",
   "execution_count": 4,
   "metadata": {
    "collapsed": true,
    "deletable": false,
    "nbgrader": {
     "checksum": "23823c54396f41e0bb2ba5b0aa31b777",
     "grade": false,
     "grade_id": "bezier_code",
     "locked": false,
     "solution": true
    }
   },
   "outputs": [],
   "source": [
    "def bezier(a):\n",
    "    # find order of curve from number of control points\n",
    "    n = np.shape(a)[0]-1\n",
    "    # initialise arrays\n",
    "    B = np.zeros([101, 2])\n",
    "    terms = np.zeros([n+1, 2])\n",
    "    # create an array of values for t from 0 to 1 in 101 steps\n",
    "    t = np.linspace(0, 1, 101)\n",
    "    # loop through all t values\n",
    "    for i in range(0, 101):\n",
    "        #calculate terms inside sum in equation 13\n",
    "        for j in range(0, n + 1):\n",
    "            ((choose(n, j)) * (t[i]**i) * ((1-t[i])**(n-j))) * a[j, :]\n",
    "        #sum terms to find Bezier curve\n",
    "        B[i, :] = sum(terms, 0)\n",
    "    # plot Bezier\n",
    "    pl.plot(B[:, 0], B[:, 1])\n",
    "    # plot control points\n",
    "    pl.plot(a[:, 0], a[:, 1],'ko')\n",
    "    # plot control polygon\n",
    "    pl.plot(a[:, 0], a[:, 1],'k')\n",
    "    return B"
   ]
  },
  {
   "cell_type": "markdown",
   "metadata": {},
   "source": [
    "Check that your function works by passing it some control points:"
   ]
  },
  {
   "cell_type": "code",
   "execution_count": 5,
   "metadata": {},
   "outputs": [
    {
     "data": {
      "image/png": "[encoded data removed]",
      "text/plain": [
       "<matplotlib.figure.Figure at 0x1e58f026630>"
      ]
     },
     "metadata": {},
     "output_type": "display_data"
    }
   ],
   "source": [
    "a = np.array([[0, 0], [0.5, 1], [1, 0]])\n",
    "B = bezier(a)"
   ]
  },
  {
   "cell_type": "markdown",
   "metadata": {},
   "source": [
    "It should return 101 points and start and end at the first and last control point:"
   ]
  },
  {
   "cell_type": "code",
   "execution_count": 6,
   "metadata": {},
   "outputs": [
    {
     "name": "stdout",
     "output_type": "stream",
     "text": [
      "101\n",
      "[ 0.  0.]\n",
      "[ 0.  0.]\n"
     ]
    }
   ],
   "source": [
    "print(len(B))\n",
    "print(B[0, :])\n",
    "print(B[-1, :])"
   ]
  },
  {
   "cell_type": "markdown",
   "metadata": {},
   "source": [
    "Try passing your function more control points. "
   ]
  },
  {
   "cell_type": "code",
   "execution_count": null,
   "metadata": {
    "collapsed": true
   },
   "outputs": [],
   "source": []
  },
  {
   "cell_type": "markdown",
   "metadata": {},
   "source": [
    "The tests below will be used to grade your submission automatically."
   ]
  },
  {
   "cell_type": "code",
   "execution_count": 7,
   "metadata": {
    "deletable": false,
    "nbgrader": {
     "checksum": "01a46bb80c042d65d9289b123eaa4f61",
     "grade": true,
     "grade_id": "rational_bezier_check",
     "locked": true,
     "points": 1,
     "solution": false
    }
   },
   "outputs": [
    {
     "data": {
      "text/plain": [
       "'Check that rational_bezier returns the correct output for several inputs'"
      ]
     },
     "execution_count": 7,
     "metadata": {},
     "output_type": "execute_result"
    }
   ],
   "source": [
    "\"\"\"Check that bezier returns the correct output for several inputs\"\"\"\n",
    "assert bezier(np.array([[0.2, 1.5], [2, 0.6], [0, 0]]))[100,0] == 0.0\n",
    "assert bezier(np.array([[0.2, 1.5], [2, 0.6], [5.0, 0]]))[100,0] == 5.0\n",
    "assert bezier(np.array([[0,0], [0.5,1], [1, -1],[1.5, 1], [2, 0]]))[50,1] == 0.125"
   ]
  },
  {
   "cell_type": "code",
   "execution_count": 8,
   "metadata": {
    "deletable": false,
    "nbgrader": {
     "checksum": "d8f6f4aa7521d4eb421bd835689e2548",
     "grade": true,
     "grade_id": "bezier_check",
     "locked": true,
     "points": 1,
     "solution": false
    }
   },
   "outputs": [
    {
     "ename": "AssertionError",
     "evalue": "",
     "output_type": "error",
     "traceback": [
      "\u001b[1;31m---------------------------------------------------------------------------\u001b[0m",
      "\u001b[1;31mAssertionError\u001b[0m                            Traceback (most recent call last)",
      "\u001b[1;32m<ipython-input-8-92466a66c0fa>\u001b[0m in \u001b[0;36m<module>\u001b[1;34m()\u001b[0m\n\u001b[0;32m      1\u001b[0m \u001b[1;34m\"\"\"Check that bezier returns the correct output for several inputs\"\"\"\u001b[0m\u001b[1;33m\u001b[0m\u001b[0m\n\u001b[0;32m      2\u001b[0m \u001b[1;32massert\u001b[0m \u001b[0mbezier\u001b[0m\u001b[1;33m(\u001b[0m\u001b[0mnp\u001b[0m\u001b[1;33m.\u001b[0m\u001b[0marray\u001b[0m\u001b[1;33m(\u001b[0m\u001b[1;33m[\u001b[0m\u001b[1;33m[\u001b[0m\u001b[1;36m0.2\u001b[0m\u001b[1;33m,\u001b[0m \u001b[1;36m1.5\u001b[0m\u001b[1;33m]\u001b[0m\u001b[1;33m,\u001b[0m \u001b[1;33m[\u001b[0m\u001b[1;36m2\u001b[0m\u001b[1;33m,\u001b[0m \u001b[1;36m0.6\u001b[0m\u001b[1;33m]\u001b[0m\u001b[1;33m,\u001b[0m \u001b[1;33m[\u001b[0m\u001b[1;36m0\u001b[0m\u001b[1;33m,\u001b[0m \u001b[1;36m0\u001b[0m\u001b[1;33m]\u001b[0m\u001b[1;33m]\u001b[0m\u001b[1;33m)\u001b[0m\u001b[1;33m)\u001b[0m\u001b[1;33m[\u001b[0m\u001b[1;36m100\u001b[0m\u001b[1;33m,\u001b[0m\u001b[1;36m0\u001b[0m\u001b[1;33m]\u001b[0m \u001b[1;33m==\u001b[0m \u001b[1;36m0.0\u001b[0m\u001b[1;33m\u001b[0m\u001b[0m\n\u001b[1;32m----> 3\u001b[1;33m \u001b[1;32massert\u001b[0m \u001b[0mbezier\u001b[0m\u001b[1;33m(\u001b[0m\u001b[0mnp\u001b[0m\u001b[1;33m.\u001b[0m\u001b[0marray\u001b[0m\u001b[1;33m(\u001b[0m\u001b[1;33m[\u001b[0m\u001b[1;33m[\u001b[0m\u001b[1;36m0.2\u001b[0m\u001b[1;33m,\u001b[0m \u001b[1;36m1.5\u001b[0m\u001b[1;33m]\u001b[0m\u001b[1;33m,\u001b[0m \u001b[1;33m[\u001b[0m\u001b[1;36m2\u001b[0m\u001b[1;33m,\u001b[0m \u001b[1;36m0.6\u001b[0m\u001b[1;33m]\u001b[0m\u001b[1;33m,\u001b[0m \u001b[1;33m[\u001b[0m\u001b[1;36m5.0\u001b[0m\u001b[1;33m,\u001b[0m \u001b[1;36m0\u001b[0m\u001b[1;33m]\u001b[0m\u001b[1;33m]\u001b[0m\u001b[1;33m)\u001b[0m\u001b[1;33m)\u001b[0m\u001b[1;33m[\u001b[0m\u001b[1;36m100\u001b[0m\u001b[1;33m,\u001b[0m\u001b[1;36m0\u001b[0m\u001b[1;33m]\u001b[0m \u001b[1;33m==\u001b[0m \u001b[1;36m5.0\u001b[0m\u001b[1;33m\u001b[0m\u001b[0m\n\u001b[0m\u001b[0;32m      4\u001b[0m \u001b[1;32massert\u001b[0m \u001b[0mbezier\u001b[0m\u001b[1;33m(\u001b[0m\u001b[0mnp\u001b[0m\u001b[1;33m.\u001b[0m\u001b[0marray\u001b[0m\u001b[1;33m(\u001b[0m\u001b[1;33m[\u001b[0m\u001b[1;33m[\u001b[0m\u001b[1;36m0\u001b[0m\u001b[1;33m,\u001b[0m\u001b[1;36m0\u001b[0m\u001b[1;33m]\u001b[0m\u001b[1;33m,\u001b[0m \u001b[1;33m[\u001b[0m\u001b[1;36m0.5\u001b[0m\u001b[1;33m,\u001b[0m\u001b[1;36m1\u001b[0m\u001b[1;33m]\u001b[0m\u001b[1;33m,\u001b[0m \u001b[1;33m[\u001b[0m\u001b[1;36m1\u001b[0m\u001b[1;33m,\u001b[0m \u001b[1;33m-\u001b[0m\u001b[1;36m1\u001b[0m\u001b[1;33m]\u001b[0m\u001b[1;33m,\u001b[0m\u001b[1;33m[\u001b[0m\u001b[1;36m1.5\u001b[0m\u001b[1;33m,\u001b[0m \u001b[1;36m1\u001b[0m\u001b[1;33m]\u001b[0m\u001b[1;33m,\u001b[0m \u001b[1;33m[\u001b[0m\u001b[1;36m2\u001b[0m\u001b[1;33m,\u001b[0m \u001b[1;36m0\u001b[0m\u001b[1;33m]\u001b[0m\u001b[1;33m]\u001b[0m\u001b[1;33m)\u001b[0m\u001b[1;33m)\u001b[0m\u001b[1;33m[\u001b[0m\u001b[1;36m50\u001b[0m\u001b[1;33m,\u001b[0m\u001b[1;36m1\u001b[0m\u001b[1;33m]\u001b[0m \u001b[1;33m==\u001b[0m \u001b[1;36m0.125\u001b[0m\u001b[1;33m\u001b[0m\u001b[0m\n",
      "\u001b[1;31mAssertionError\u001b[0m: "
     ]
    },
    {
     "data": {
      "image/png": "[encoded data removed]",
      "text/plain": [
       "<matplotlib.figure.Figure at 0x1e58f223f60>"
      ]
     },
     "metadata": {},
     "output_type": "display_data"
    }
   ],
   "source": [
    "\"\"\"Check that bezier returns the correct output for several inputs\"\"\"\n",
    "assert bezier(np.array([[0.2, 1.5], [2, 0.6], [0, 0]]))[100,0] == 0.0\n",
    "assert bezier(np.array([[0.2, 1.5], [2, 0.6], [5.0, 0]]))[100,0] == 5.0\n",
    "assert bezier(np.array([[0,0], [0.5,1], [1, -1],[1.5, 1], [2, 0]]))[50,1] == 0.125"
   ]
  },
  {
   "cell_type": "markdown",
   "metadata": {},
   "source": [
    "## Task 2: create a rational B&eacute;zier curve\n",
    "In this task you will write a function <code>rational_bezier(a, z)</code> that creates a rational B&eacute;zier curve with control points defined by an $n\\times2$ array <code>a</code> with weights <code>z</code>, returns a $101\\times 2$ array <code>B_rat</code> of $x,y$ points on the curve for $t[0,1]$ and plots the curve, control points and control polygon. Again, much of the code is written for you. In the code below, beneath the '<code># YOUR CODE HERE</code>', delete the '<code>raise NotImplementedError()</code>' and enter three lines of code to implement equation 17 from the notes."
   ]
  },
  {
   "cell_type": "code",
   "execution_count": null,
   "metadata": {
    "deletable": false,
    "nbgrader": {
     "checksum": "86cc3520d4da543cdc7b5a3f74b58cb5",
     "grade": false,
     "grade_id": "rational_bezier_code",
     "locked": false,
     "solution": true
    }
   },
   "outputs": [],
   "source": [
    "def rational_bezier(a, z):\n",
    "    # find order of curve from number of control points\n",
    "    n = np.shape(a)[0]-1\n",
    "    # initialise arrays\n",
    "    B_rat = np.zeros([101, 2])\n",
    "    numerator_terms = np.zeros([n+1, 2])\n",
    "    denominator_terms = np.zeros([n+1, 2])\n",
    "    # create an array of values for t from 0 to 1 in 101 steps\n",
    "    t = np.linspace(0, 1, 101)\n",
    "    # loop through all t values\n",
    "    for i in range(0, 101):\n",
    "        for j in range(0, n + 1):\n",
    "            h = (((choose(n, j)) * (t[i]**j) * ((1-t[i])**(n-j))) * \\\n",
    "                a[j] * z[j, :]) / (((choose(n, i)) * (t[x]**i) * ((1-t[x])**(n-i))) * \\\n",
    "                weights[i])\n",
    "        B_rat[i, :] = h            \n",
    "    # plot rational Bezier\n",
    "    pl.plot(B_rat[:, 0], B_rat[:, 1])\n",
    "    # plot control points\n",
    "    pl.plot(a[:, 0], a[:, 1],'ko')\n",
    "    # plot control polygon\n",
    "    pl.plot(a[:, 0], a[:, 1],'k')\n",
    "    return B_rat"
   ]
  },
  {
   "cell_type": "markdown",
   "metadata": {},
   "source": [
    "Try out your code. For the same control points and with all weights set at 1, it should give the same results as <code>bezier</code>:"
   ]
  },
  {
   "cell_type": "code",
   "execution_count": null,
   "metadata": {
    "collapsed": true
   },
   "outputs": [],
   "source": [
    "a = np.array([[0,0], [0.5,1], [1, 0]])\n",
    "z = np.array([1, 1, 1])\n",
    "B=rational_bezier(a, z)\n",
    "print(len(B))\n",
    "print(B[0, :])\n",
    "print(B[-1, :])"
   ]
  },
  {
   "cell_type": "markdown",
   "metadata": {},
   "source": [
    "But, increasing the weight of a point 'draws' the curve towards it:"
   ]
  },
  {
   "cell_type": "code",
   "execution_count": null,
   "metadata": {
    "collapsed": true
   },
   "outputs": [],
   "source": [
    "a = np.array([[0,0], [0.5,1], [1, 0]])\n",
    "z = np.array([1, 10, 1])\n",
    "B=rational_bezier(a, z)"
   ]
  },
  {
   "cell_type": "markdown",
   "metadata": {},
   "source": [
    "Restart the kernel and run all (click \"Kernel\", \"Restart & Run All\"), to make sure everything is working before submitting this .ipynb file via Blackboard. "
   ]
  }
 ],
 "metadata": {
  "anaconda-cloud": {},
  "kernelspec": {
   "display_name": "Python 3.10.1 64-bit",
   "language": "python",
   "name": "python3"
  },
  "language_info": {
   "codemirror_mode": {
    "name": "ipython",
    "version": 3
   },
   "file_extension": ".py",
   "mimetype": "text/x-python",
   "name": "python",
   "nbconvert_exporter": "python",
   "pygments_lexer": "ipython3",
   "version": "3.10.1"
  },
  "vscode": {
   "interpreter": {
    "hash": "afb734500600fd355917ca529030176ea0ca205570884b88f2f6f7d791fd3fbe"
   }
  }
 },
 "nbformat": 4,
 "nbformat_minor": 1
}
